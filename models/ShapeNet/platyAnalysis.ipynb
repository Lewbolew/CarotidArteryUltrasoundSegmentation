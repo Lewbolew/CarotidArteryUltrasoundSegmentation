{
 "cells": [
  {
   "cell_type": "code",
   "execution_count": 31,
   "metadata": {},
   "outputs": [],
   "source": [
    "import numpy as np\n",
    "import os\n",
    "import pandas as pd\n",
    "import PIL\n",
    "import cv2 as cv\n",
    "from tqdm import tqdm_notebook\n",
    "import matplotlib.pyplot as plt\n",
    "import pickle\n",
    "import shutil"
   ]
  },
  {
   "cell_type": "code",
   "execution_count": 32,
   "metadata": {},
   "outputs": [],
   "source": []
  },
  {
   "cell_type": "code",
   "execution_count": 46,
   "metadata": {},
   "outputs": [],
   "source": [
    "PATH_TO_TABLE = '/home/bohdan/Desktop/platy.xlsx'\n",
    "platy = pd.read_excel(PATH_TO_TABLE)\n",
    "procento = platy[['id','procento_stenozy']]\n",
    "procento = procento[np.logical_not(pd.isnull(procento['procento_stenozy']))]\n",
    "\n",
    "for i in procento.index:\n",
    "    if not isinstance(procento.loc[i]['procento_stenozy'], int):\n",
    "        procento.drop(i, inplace=True)\n",
    "\n",
    "procento.set_index(procento['id'], inplace=True)\n",
    "procento.drop('id', axis=1, inplace=True)\n",
    "procento.drop([452770,921310], inplace=True)# don`t have the ultrasound data\n",
    "procento.drop([220574], inplace=True) # bad quality"
   ]
  },
  {
   "cell_type": "code",
   "execution_count": 47,
   "metadata": {},
   "outputs": [
    {
     "data": {
      "text/html": [
       "<div>\n",
       "<style>\n",
       "    .dataframe thead tr:only-child th {\n",
       "        text-align: right;\n",
       "    }\n",
       "\n",
       "    .dataframe thead th {\n",
       "        text-align: left;\n",
       "    }\n",
       "\n",
       "    .dataframe tbody tr th {\n",
       "        vertical-align: top;\n",
       "    }\n",
       "</style>\n",
       "<table border=\"1\" class=\"dataframe\">\n",
       "  <thead>\n",
       "    <tr style=\"text-align: right;\">\n",
       "      <th></th>\n",
       "      <th>procento_stenozy</th>\n",
       "    </tr>\n",
       "    <tr>\n",
       "      <th>id</th>\n",
       "      <th></th>\n",
       "    </tr>\n",
       "  </thead>\n",
       "  <tbody>\n",
       "    <tr>\n",
       "      <th>105520</th>\n",
       "      <td>65</td>\n",
       "    </tr>\n",
       "    <tr>\n",
       "      <th>128207</th>\n",
       "      <td>30</td>\n",
       "    </tr>\n",
       "    <tr>\n",
       "      <th>131283</th>\n",
       "      <td>70</td>\n",
       "    </tr>\n",
       "    <tr>\n",
       "      <th>137930</th>\n",
       "      <td>50</td>\n",
       "    </tr>\n",
       "    <tr>\n",
       "      <th>144329</th>\n",
       "      <td>75</td>\n",
       "    </tr>\n",
       "  </tbody>\n",
       "</table>\n",
       "</div>"
      ],
      "text/plain": [
       "       procento_stenozy\n",
       "id                     \n",
       "105520               65\n",
       "128207               30\n",
       "131283               70\n",
       "137930               50\n",
       "144329               75"
      ]
     },
     "execution_count": 47,
     "metadata": {},
     "output_type": "execute_result"
    }
   ],
   "source": [
    "procento.head()"
   ]
  },
  {
   "cell_type": "code",
   "execution_count": 48,
   "metadata": {},
   "outputs": [],
   "source": [
    "PATH_TO_PATIENTS = '/home/bohdan/ultrasound/all_patients/'\n",
    "PATH_TO_SAVE = '/home/bohdan/ultrasound/patients_with_procentage/'"
   ]
  },
  {
   "cell_type": "code",
   "execution_count": 49,
   "metadata": {},
   "outputs": [],
   "source": [
    "for patient_id in procento.index:\n",
    "    path_to_new_folder = os.path.join(PATH_TO_SAVE, str(patient_id))\n",
    "    if not os.path.exists(path_to_new_folder):\n",
    "        shutil.copytree(os.path.join(PATH_TO_PATIENTS, str(patient_id), 'in_vitro'), path_to_new_folder)\n",
    "    \n"
   ]
  },
  {
   "cell_type": "code",
   "execution_count": null,
   "metadata": {},
   "outputs": [],
   "source": []
  },
  {
   "cell_type": "code",
   "execution_count": 21,
   "metadata": {},
   "outputs": [
    {
     "data": {
      "text/plain": [
       "'/home/bohdan/ultrasound/patients_with_procentage/105520'"
      ]
     },
     "execution_count": 21,
     "metadata": {},
     "output_type": "execute_result"
    }
   ],
   "source": [
    "shutil.copytree('/home/bohdan/ultrasound/all_patients/'+str(procento.iloc[0]['id'])+'/'+'in_vitro',\n",
    "               '/home/bohdan/ultrasound/patients_with_procentage/'+str(procento.iloc[0]['id'])\n",
    "               )"
   ]
  },
  {
   "cell_type": "code",
   "execution_count": null,
   "metadata": {},
   "outputs": [],
   "source": []
  }
 ],
 "metadata": {
  "kernelspec": {
   "display_name": "Python 3",
   "language": "python",
   "name": "python3"
  },
  "language_info": {
   "codemirror_mode": {
    "name": "ipython",
    "version": 3
   },
   "file_extension": ".py",
   "mimetype": "text/x-python",
   "name": "python",
   "nbconvert_exporter": "python",
   "pygments_lexer": "ipython3",
   "version": "3.6.3"
  }
 },
 "nbformat": 4,
 "nbformat_minor": 2
}
