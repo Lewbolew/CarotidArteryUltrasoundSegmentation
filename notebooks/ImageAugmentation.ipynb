{
 "cells": [
  {
   "cell_type": "code",
   "execution_count": 1,
   "metadata": {},
   "outputs": [],
   "source": [
    "%matplotlib inline\n",
    "import numpy as np\n",
    "import cv2\n",
    "import os\n",
    "from matplotlib import pyplot as plt\n",
    "import random \n",
    "from tqdm import tqdm\n",
    "from albumentations import (\n",
    "    PadIfNeeded,\n",
    "    HorizontalFlip,\n",
    "    VerticalFlip,    \n",
    "    CenterCrop,    \n",
    "    Crop,\n",
    "    Compose,\n",
    "    Transpose,\n",
    "    RandomRotate90,\n",
    "    ElasticTransform,\n",
    "    GridDistortion, \n",
    "    OpticalDistortion,\n",
    "    RandomSizedCrop,\n",
    "    OneOf,\n",
    "    CLAHE,\n",
    "    RandomContrast,\n",
    "    RandomGamma,\n",
    "    RandomBrightness\n",
    ")\n",
    "\n",
    "random.seed(42)"
   ]
  },
  {
   "cell_type": "markdown",
   "metadata": {},
   "source": [
    "# Important Functions"
   ]
  },
  {
   "cell_type": "code",
   "execution_count": 2,
   "metadata": {},
   "outputs": [],
   "source": [
    "def visualize(image, mask, original_image=None, original_mask=None):\n",
    "    fontsize = 18\n",
    "    \n",
    "    if original_image is None and original_mask is None:\n",
    "        f, ax = plt.subplots(2, 1, figsize=(8, 8))\n",
    "\n",
    "        ax[0].imshow(image)\n",
    "        ax[1].imshow(mask)\n",
    "    else:\n",
    "        f, ax = plt.subplots(2, 2, figsize=(8, 8))\n",
    "\n",
    "        ax[0, 0].imshow(original_image)\n",
    "        ax[0, 0].set_title('Original image', fontsize=fontsize)\n",
    "        \n",
    "        ax[1, 0].imshow(original_mask)\n",
    "        ax[1, 0].set_title('Original mask', fontsize=fontsize)\n",
    "        \n",
    "        ax[0, 1].imshow(image)\n",
    "        ax[0, 1].set_title('Transformed image', fontsize=fontsize)\n",
    "        \n",
    "        ax[1, 1].imshow(mask)\n",
    "        ax[1, 1].set_title('Transformed mask', fontsize=fontsize)\n",
    "        \n",
    "def save_aug_res(augmented_img, img_name, path_to_save, ifSoftmax=True):\n",
    "    if not os.path.exists(path_to_save):\n",
    "        os.mkdir(path_to_save)\n",
    "    if ifSoftmax:\n",
    "        \n",
    "        np.save(os.path.join(path_to_save,img_name)[:-4]+'.npy', augmented_img)\n",
    "    else:\n",
    "        cv2.imwrite(os.path.join(path_to_save,img_name), augmented_img)\n",
    "\n",
    "def add_back_ground(pixel):\n",
    "    \"\"\"\n",
    "    Add forth class to the mask(I used it to add background class to all masks)\n",
    "    \"\"\"\n",
    "    if np.count_nonzero(pixel) == 0:\n",
    "        return 1\n",
    "    else:\n",
    "        return 0\n",
    "\n",
    "def whole_saving_process(augmentor, train_x, train_y, x_names, path_to_save, \n",
    "                         number_of_augmentations_per_one_image=10, channels=\"all\", ifSoftmax=True):\n",
    "    \"\"\"\n",
    "    Save augmented images to the given path_to_save. \n",
    "    \n",
    "    Args:\n",
    "     - augmentator: certain type of augmentation class from albumentations library(including\n",
    "                    Compose class. If smth unclear here, read albumentations lib doc.);\n",
    "     - train_x: list of train images;\n",
    "     - train_y: list of corresponding masks to the images;\n",
    "     - x_names: list of names to the images(the names for train_x and train_y are equall);\n",
    "     - path_to_save: str path, where to save the images;\n",
    "     - number_of_augmentations_per_one_image: number of augmented images from 1 image in \n",
    "                                              the dataset.\n",
    "     - channels: Channels has only 4 values:\n",
    "                 - 'all' - save colored masks;\n",
    "                 - 'a' - save binary masks(only artifact class);\n",
    "                 - 'l' - save binary masks(only lumen class);\n",
    "                 - 't' - save binary masks(only tissue class).\n",
    "    Returns: \n",
    "     - None\n",
    "                    \n",
    "    \"\"\"\n",
    "    \n",
    "    # check wether input is valid\n",
    "    possible_values_of_channels = ['all', 'a', 'l', 't']\n",
    "    assert channels in possible_values_of_channels, 'Input proper value of \"channels\"'\n",
    "    \n",
    "    # assign proper index value for channel corresponding to the class\n",
    "    if channels == 'a':\n",
    "        index = 0\n",
    "    elif channels == 'l':\n",
    "        index = 1\n",
    "    else:\n",
    "        index = 2\n",
    "        \n",
    "    # iterate over images in train\n",
    "    for i in tqdm(range(len(train_x))):\n",
    "        \n",
    "        # augment one image in dataset\n",
    "        for k in range(number_of_augmentations_per_one_image):\n",
    "            \n",
    "            if channels == 'all':\n",
    "                augmented = augmentor(image=train_x[i], mask=train_y[i])\n",
    "            else:\n",
    "                augmented = augmentor(image=train_x[i], mask=train_y[i][:,:,index])\n",
    "    \n",
    "            image_my_augmented = augmented['image']\n",
    "            mask_my_augmented = augmented['mask']\n",
    "            \n",
    "            if ifSoftmax:\n",
    "                # adding background class to the mask \n",
    "                mask_my_augmented = np.dstack(\n",
    "                    (\n",
    "                        mask_my_augmented, \n",
    "                        np.apply_along_axis(add_back_ground, -1, mask_my_augmented)\n",
    "                    )\n",
    "                )\n",
    "            \n",
    "            save_aug_res(image_my_augmented, str(k)+'_'+x_names[i], path_to_save+'train_x', ifSoftmax=False)# here ifSoftmax should be always false!\n",
    "            save_aug_res(mask_my_augmented, str(k)+'_'+x_names[i], path_to_save+'train_y', ifSoftmax)\n",
    "            \n",
    "    for i in range(len(train_x)):\n",
    "        save_aug_res(train_x[i],x_names[i], path_to_save+'train_x', ifSoftmax=False)\n",
    "\n",
    "        if channels == 'all':\n",
    "            if ifSoftmax:\n",
    "                train_y[i] = np.dstack(\n",
    "                    (\n",
    "                        train_y[i], \n",
    "                        np.apply_along_axis(add_back_ground, -1, train_y[i])\n",
    "                    )\n",
    "                )\n",
    "            save_aug_res(train_y[i],x_names[i], path_to_save+'train_y', ifSoftmax)\n",
    "        else:\n",
    "            if ifSoftmax:\n",
    "                train_y[i][:,:,index] = np.dstack(\n",
    "                    (\n",
    "                        train_y[i][:,:,index], \n",
    "                        np.apply_along_axis(add_back_ground, -1, train_y[i][:,:,index])\n",
    "                    )\n",
    "                ) \n",
    "            save_aug_res(train_y[i][:,:,index],x_names[i], path_to_save+'train_y', ifSoftmax)\n",
    "\n",
    "def copy_softmax_masks(path_to_masks, path_to_save):\n",
    "    if not os.path.exists(path_to_save):\n",
    "        os.mkdir(path_to_save)\n",
    "    masks_list = os.listdir(path_to_masks)\n",
    "    masks = [cv2.imread(path_to_masks+masks_list[i]) for i in range(len(masks_list))]\n",
    "    for i in range(len(masks)):\n",
    "        proper_mask = np.dstack(\n",
    "            (\n",
    "                masks[i], \n",
    "                np.apply_along_axis(add_back_ground, -1, masks[i])\n",
    "            )\n",
    "        )\n",
    "        save_aug_res(proper_mask, masks_list[i], path_to_save)\n"
   ]
  },
  {
   "cell_type": "markdown",
   "metadata": {},
   "source": [
    "# Reading Data\n"
   ]
  },
  {
   "cell_type": "code",
   "execution_count": 3,
   "metadata": {},
   "outputs": [],
   "source": [
    "x_path = '/home/bohdan/ultrasound/dataset/extended_dataset_preprocessed/x_train/'\n",
    "# x_path = '/home/bohdan/ultrasound/dataset/augmentation/train_x/'\n",
    "x_names = os.listdir(x_path)\n",
    "train_x = [cv2.imread(x_path+x_names[i]) for i in range(len(x_names))]\n",
    "\n",
    "y_path = '/home/bohdan/ultrasound/dataset/extended_dataset_preprocessed/y_train/'\n",
    "# y_path = '/home/bohdan/ultrasound/dataset/augmentation/train_y/'\n",
    "y_names = os.listdir(y_path)\n",
    "train_y = [cv2.imread(y_path+x_names[i]) for i in range(len(x_names))]\n"
   ]
  },
  {
   "cell_type": "code",
   "execution_count": null,
   "metadata": {
    "scrolled": true
   },
   "outputs": [],
   "source": [
    "for i in range(len(train_x)):\n",
    "    plt.figure(figsize=(20,10))\n",
    "    plt.subplot(1,2,1)\n",
    "    plt.imshow(train_x[i])\n",
    "    fif = np.copy(train_y[i])\n",
    "    fif[fif==1] = 255\n",
    "#     plt.figure(figsize=(20,10))\n",
    "    plt.subplot(1,2,2)\n",
    "    plt.imshow(fif)"
   ]
  },
  {
   "cell_type": "markdown",
   "metadata": {},
   "source": [
    "# Creating Data Augmentators"
   ]
  },
  {
   "cell_type": "code",
   "execution_count": 4,
   "metadata": {},
   "outputs": [],
   "source": [
    "full_pack_augmentor = Compose([\n",
    "    \n",
    "    # Non destructive transformations\n",
    "#     VerticalFlip(p=0.6),\n",
    "#     HorizontalFlip(p=0.6),\n",
    "#     RandomRotate90(),\n",
    "#     Transpose(p=0.6),\n",
    "    \n",
    "#     # Non-rigid transformations\n",
    "    OneOf([\n",
    "    ElasticTransform(p=0.5, alpha=160, sigma=180 * 0.05, alpha_affine=120 * 0.03),\n",
    "    GridDistortion(p=0.5),\n",
    "    OpticalDistortion(p=1, distort_limit=1, shift_limit=0.5)                  \n",
    "    ], p=0.5),\n",
    "    \n",
    "#     Color augmentation\n",
    "    RandomBrightness(p=0.5),\n",
    "    RandomContrast(p=0.5),\n",
    "    RandomGamma(p=0.5),\n",
    "    CLAHE(p=0.5)\n",
    "    ]\n",
    ")"
   ]
  },
  {
   "cell_type": "code",
   "execution_count": null,
   "metadata": {},
   "outputs": [],
   "source": [
    "augmented = full_pack_augmentor(image=train_x[0], mask=train_y[0])\n",
    "image_my_augmented = augmented['image']\n",
    "mask_my_augmented = augmented['mask']\n",
    "mask_my_augmented[mask_my_augmented == 1] = 255\n",
    "plt.figure(figsize=(10,10))\n",
    "plt.imshow(mask_my_augmented)"
   ]
  },
  {
   "cell_type": "code",
   "execution_count": null,
   "metadata": {},
   "outputs": [],
   "source": []
  },
  {
   "cell_type": "code",
   "execution_count": null,
   "metadata": {},
   "outputs": [],
   "source": []
  },
  {
   "cell_type": "markdown",
   "metadata": {},
   "source": [
    "# Augmentation Process"
   ]
  },
  {
   "cell_type": "markdown",
   "metadata": {},
   "source": [
    "### RGB masks augmentation"
   ]
  },
  {
   "cell_type": "code",
   "execution_count": 7,
   "metadata": {},
   "outputs": [
    {
     "name": "stderr",
     "output_type": "stream",
     "text": [
      "100%|██████████| 25/25 [06:54<00:00, 16.59s/it]\n"
     ]
    }
   ],
   "source": [
    "PATH_TO_SAVE = '../dataset/augmentation/softmax/color_non_rigid_aug/'\n",
    "\n",
    "whole_saving_process(full_pack_augmentor, train_x, train_y, x_names, \n",
    "                     PATH_TO_SAVE, 10, channels='all')"
   ]
  },
  {
   "cell_type": "code",
   "execution_count": null,
   "metadata": {},
   "outputs": [],
   "source": [
    "PATH_TO_MASKS = '/home/bohdan/ultrasound/dataset/extended_dataset_preprocessed/y_val/'\n",
    "PATH_TO_SAVE = '/home/bohdan/ultrasound/dataset/augmentation/softmax/y_val/'\n",
    "copy_softmax_masks(PATH_TO_MASKS, PATH_TO_SAVE)"
   ]
  },
  {
   "cell_type": "markdown",
   "metadata": {
    "scrolled": true
   },
   "source": [
    "### Artifacts augmentation"
   ]
  },
  {
   "cell_type": "code",
   "execution_count": null,
   "metadata": {},
   "outputs": [],
   "source": [
    "PATH_TO_SAVE = '../dataset/augmentation/softmax/artifacts_augmentation/'\n",
    "\n",
    "whole_saving_process(full_pack_augmentor, train_x, train_y, x_names, \n",
    "                     PATH_TO_SAVE, 10, channels='a')"
   ]
  },
  {
   "cell_type": "markdown",
   "metadata": {},
   "source": [
    "### Lumen augmentation"
   ]
  },
  {
   "cell_type": "code",
   "execution_count": null,
   "metadata": {},
   "outputs": [],
   "source": [
    "PATH_TO_SAVE = '../dataset/augmentation/lumen_augmentation/'\n",
    "\n",
    "whole_saving_process(full_pack_augmentor, train_x, train_y, x_names, \n",
    "                     PATH_TO_SAVE, 10, channels='l')"
   ]
  },
  {
   "cell_type": "markdown",
   "metadata": {},
   "source": [
    "### Tissue augmentation"
   ]
  },
  {
   "cell_type": "code",
   "execution_count": null,
   "metadata": {},
   "outputs": [],
   "source": [
    "PATH_TO_SAVE = '../dataset/augmentation/tissue_augmentation/'\n",
    "\n",
    "whole_saving_process(full_pack_augmentor, train_x, train_y, x_names, \n",
    "                     PATH_TO_SAVE, 10, channels='t')"
   ]
  },
  {
   "cell_type": "code",
   "execution_count": null,
   "metadata": {},
   "outputs": [],
   "source": [
    "a = 'rojfsd.png'\n",
    "a[:-4]"
   ]
  }
 ],
 "metadata": {
  "kernelspec": {
   "display_name": "Python 3",
   "language": "python",
   "name": "python3"
  },
  "language_info": {
   "codemirror_mode": {
    "name": "ipython",
    "version": 3
   },
   "file_extension": ".py",
   "mimetype": "text/x-python",
   "name": "python",
   "nbconvert_exporter": "python",
   "pygments_lexer": "ipython3",
   "version": "3.6.3"
  }
 },
 "nbformat": 4,
 "nbformat_minor": 2
}
