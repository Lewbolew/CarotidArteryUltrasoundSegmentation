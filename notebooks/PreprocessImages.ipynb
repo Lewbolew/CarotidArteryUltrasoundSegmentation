{
 "cells": [
  {
   "cell_type": "code",
   "execution_count": 1,
   "metadata": {},
   "outputs": [
    {
     "name": "stderr",
     "output_type": "stream",
     "text": [
      "/home/bohdan/anaconda3/lib/python3.6/site-packages/h5py/__init__.py:34: FutureWarning: Conversion of the second argument of issubdtype from `float` to `np.floating` is deprecated. In future, it will be treated as `np.float64 == np.dtype(float).type`.\n",
      "  from ._conv import register_converters as _register_converters\n",
      "Using TensorFlow backend.\n",
      "/home/bohdan/anaconda3/lib/python3.6/importlib/_bootstrap.py:219: RuntimeWarning: compiletime version 3.5 of module 'tensorflow.python.framework.fast_tensor_util' does not match runtime version 3.6\n",
      "  return f(*args, **kwds)\n"
     ]
    }
   ],
   "source": [
    "from keras import backend as K\n",
    "import cv2 as cv\n",
    "import numpy as np\n",
    "import os\n",
    "import matplotlib.pyplot as plt"
   ]
  },
  {
   "cell_type": "code",
   "execution_count": 2,
   "metadata": {},
   "outputs": [],
   "source": [
    "def draw_cropped_img(img):\n",
    "    \"\"\"\n",
    "    Draw the borders where the image will be cropped. \n",
    "    \"\"\"\n",
    "    plt.figure(figsize=(20,10))\n",
    "    img[103:104,:,0] = 255\n",
    "    img[:,192:193,0] = 255\n",
    "    img[:,-65:-64,0] = 255\n",
    "    img[-10:-9,:,0] = 255\n",
    "    plt.imshow(img)\n",
    "    plt.axis('Off')\n",
    "    \n",
    "                def preprocess_image(inp_img):\n",
    "                    \"\"\"\n",
    "                    Crop inputed img + make redundant pixels darker\n",
    "                    Return:\n",
    "                     - img of size 544x544\n",
    "                    \"\"\"\n",
    "                    img = np.copy(inp_img)\n",
    "                    img = img[12:,192:-64, :] # crop\n",
    "                    img[:105,:,:] = 0 # make pixel area dark\n",
    "                    img[-10:,:,:] = 0 # make pixel area dark\n",
    "\n",
    "                    return img.astype(np.uint8)\n",
    "\n",
    "                def preprocess_images(list_of_images):\n",
    "                    \"\"\"\n",
    "                    Preprocess batch of images\n",
    "                    \"\"\"\n",
    "                    return [preprocess_image(img) for img in list_of_images]\n",
    "\n",
    "def preprocess_mask(mask):\n",
    "    \"\"\"\n",
    "    Crop the mask + set all values into the set of values [0, 1]\n",
    "    \"\"\"\n",
    "    new_mask = np.copy(mask)\n",
    "    new_mask = new_mask[12:,192:-64, :]\n",
    "    new_mask[new_mask!=0] = 1\n",
    "    new_mask = new_mask.astype(np.uint8)\n",
    "#     new_mask[:,:,1][np.logical_and(new_mask[:,:,0], new_mask[:,:,1])] = 1\n",
    "    new_mask[:,:,0][np.logical_and(new_mask[:,:,0], new_mask[:,:,1])] = 0 # delete intersection between lumen and tissue\n",
    "    new_mask[:,:,2][np.logical_and(new_mask[:,:,0], new_mask[:,:,2])] = 0 # delete intersecion between artifact and tissue\n",
    "\n",
    "    return new_mask\n",
    "\n",
    "def preprocess_masks(list_of_masks):\n",
    "    return [preprocess_mask(mask) for mask in list_of_masks]\n",
    "\n",
    "def save_images(imgs, folder_to_save, filenames):\n",
    "    if not os.path.exists(folder_to_save):\n",
    "        os.makedirs(folder_to_save)\n",
    "    for i in range(len(imgs)):\n",
    "        cv.imwrite(os.path.join(folder_to_save, filenames[i]), imgs[i])\n",
    "        \n",
    "def vis_redundant_pixels(img):\n",
    "    \"\"\"\n",
    "    ImageJ save in masks lots of thrash pixels. But we need only binary values for our Neural\n",
    "    Networks. So, fuction visualise all this thrash. \n",
    "    \n",
    "    \"\"\"\n",
    "    img = np.copy(img)\n",
    "    img[img == 255] = 0\n",
    "    img[img != 0] = 255\n",
    "\n",
    "    print(np.unique(img, return_counts=True))\n",
    "#     img[img != 255] = 0\n",
    "    plt.figure(figsize=(20,10))\n",
    "    plt.imshow(img, cmap='gray')\n",
    "    plt.axis(\"Off\")"
   ]
  },
  {
   "cell_type": "markdown",
   "metadata": {},
   "source": [
    "# Loading Data"
   ]
  },
  {
   "cell_type": "code",
   "execution_count": 3,
   "metadata": {},
   "outputs": [],
   "source": [
    "PATH_TO_X = '/home/bohdan/ultrasound/dataset/norm/x/'\n",
    "PATH_TO_Y = '/home/bohdan/ultrasound/dataset/norm/y/'\n",
    "\n",
    "PATH_TO_SAVE_X = '/home/bohdan/ultrasound/dataset/extended_dataset_preprocessed/x_val'\n",
    "PATH_TO_SAVE_Y = '/home/bohdan/ultrasound/dataset/extended_dataset_preprocessed/y_val'"
   ]
  },
  {
   "cell_type": "code",
   "execution_count": 4,
   "metadata": {},
   "outputs": [],
   "source": [
    "x_names = os.listdir(PATH_TO_X)\n",
    "y_names = os.listdir(PATH_TO_Y)"
   ]
  },
  {
   "cell_type": "code",
   "execution_count": null,
   "metadata": {},
   "outputs": [],
   "source": []
  },
  {
   "cell_type": "code",
   "execution_count": null,
   "metadata": {},
   "outputs": [],
   "source": [
    "# # RENAME FILES\n",
    "\n",
    "# for i in range(len(x_names)):\n",
    "#     for j in range(len(y_names)):\n",
    "#         if x_names[i] in y_names[j] and len(x_names[i]) < len(y_names[j]):\n",
    "#             print(x_names, y_names)\n",
    "# #             os.rename(os.path.join(PATH_TO_Y,y_names[j]), os.path.join(PATH_TO_Y, x_names[i]))\n",
    "#             break\n",
    "\n",
    "# x_names = os.listdir(PATH_TO_X)\n",
    "# y_names = os.listdir(PATH_TO_Y)"
   ]
  },
  {
   "cell_type": "code",
   "execution_count": 7,
   "metadata": {},
   "outputs": [],
   "source": [
    "imgs = [cv.imread(PATH_TO_X+'/'+x_names[i]) for i in range (len(x_names))]\n",
    "# masks = [cv.imread(PATH_TO_Y+'/'+x_names[i])[...,::-1] for i in range (len(y_names))]"
   ]
  },
  {
   "cell_type": "markdown",
   "metadata": {},
   "source": [
    "# Investigate redundant pixel values "
   ]
  },
  {
   "cell_type": "code",
   "execution_count": null,
   "metadata": {
    "scrolled": false
   },
   "outputs": [],
   "source": [
    "# visualise redundant tissue class\n",
    "for mask in masks:\n",
    "    vis_redundant_pixels(mask)"
   ]
  },
  {
   "cell_type": "markdown",
   "metadata": {},
   "source": [
    "# Visualisation of preprocessed pair: Image-Mask"
   ]
  },
  {
   "cell_type": "code",
   "execution_count": null,
   "metadata": {},
   "outputs": [],
   "source": [
    "prep_img = preprocess_image(imgs[0])\n",
    "prep_mask = preprocess_mask(np.copy(masks[0]))"
   ]
  },
  {
   "cell_type": "code",
   "execution_count": null,
   "metadata": {
    "scrolled": true
   },
   "outputs": [],
   "source": [
    "np.unique(prep_mask, return_counts=True)"
   ]
  },
  {
   "cell_type": "code",
   "execution_count": null,
   "metadata": {},
   "outputs": [],
   "source": [
    "plt.figure(figsize=(20,10))\n",
    "plt.subplot(1,2,1)\n",
    "plt.imshow(prep_img)\n",
    "plt.axis(\"Off\")\n",
    "\n",
    "mask_for_vis = np.copy(prep_mask)\n",
    "mask_for_vis[mask_for_vis == 1] = 255\n",
    "plt.subplot(1,2,2)\n",
    "\n",
    "plt.imshow(mask_for_vis)\n",
    "plt.axis(\"Off\")"
   ]
  },
  {
   "cell_type": "code",
   "execution_count": null,
   "metadata": {},
   "outputs": [],
   "source": [
    "tissue = prep_mask[:,:,0]\n",
    "lumen = prep_mask[:,:,1]\n",
    "artifact = prep_mask[:,:,2]"
   ]
  },
  {
   "cell_type": "code",
   "execution_count": null,
   "metadata": {
    "scrolled": true
   },
   "outputs": [],
   "source": [
    "for i in preprocess_masks(masks):\n",
    "    print(np.unique(np.logical_and(i[:,:,0], i[:,:,1]).astype(int), return_counts=True))"
   ]
  },
  {
   "cell_type": "markdown",
   "metadata": {},
   "source": [
    "# Check wether our classes doesn't intersect"
   ]
  },
  {
   "cell_type": "code",
   "execution_count": null,
   "metadata": {},
   "outputs": [],
   "source": [
    "test_im = np.zeros(preprocess_masks(masks)[0].shape).astype(np.uint8)"
   ]
  },
  {
   "cell_type": "code",
   "execution_count": null,
   "metadata": {},
   "outputs": [],
   "source": [
    "test_im[np.logical_and(preprocess_masks(masks)[0][:,:,0], preprocess_masks(masks)[0][:,:,1])] = 255"
   ]
  },
  {
   "cell_type": "code",
   "execution_count": null,
   "metadata": {},
   "outputs": [],
   "source": [
    "np.unique(test_im, return_counts=True)"
   ]
  },
  {
   "cell_type": "code",
   "execution_count": null,
   "metadata": {},
   "outputs": [],
   "source": [
    "prepr_m = preprocess_masks(masks)"
   ]
  },
  {
   "cell_type": "code",
   "execution_count": null,
   "metadata": {
    "scrolled": true
   },
   "outputs": [],
   "source": [
    "for a in prepr_m:\n",
    "    a[a==1] = 255\n",
    "    plt.figure(figsize=(20,10))\n",
    "    plt.imshow(a)"
   ]
  },
  {
   "cell_type": "markdown",
   "metadata": {},
   "source": [
    "# Preprocessing"
   ]
  },
  {
   "cell_type": "code",
   "execution_count": 8,
   "metadata": {
    "scrolled": true
   },
   "outputs": [],
   "source": [
    "imgs = preprocess_images(imgs)\n",
    "# masks = preprocess_masks(masks)"
   ]
  },
  {
   "cell_type": "markdown",
   "metadata": {},
   "source": [
    "# Saving"
   ]
  },
  {
   "cell_type": "code",
   "execution_count": 9,
   "metadata": {},
   "outputs": [],
   "source": [
    "# for i in range(len(imgs)):\n",
    "save_images(imgs, PATH_TO_SAVE_X, x_names)\n",
    "# save_images(masks, PATH_TO_SAVE_Y, x_names)"
   ]
  },
  {
   "cell_type": "code",
   "execution_count": 5,
   "metadata": {},
   "outputs": [],
   "source": [
    "PATH_TO_X = '/home/bohdan/ultrasound/dataset/patients/old_105520_65/'\n",
    "PATH_TO_SAVE_X = '/home/bohdan/ultrasound/dataset/patients/105520_65/'\n",
    "x_names = os.listdir(PATH_TO_X)\n"
   ]
  },
  {
   "cell_type": "code",
   "execution_count": null,
   "metadata": {},
   "outputs": [],
   "source": []
  }
 ],
 "metadata": {
  "kernelspec": {
   "display_name": "Python 3",
   "language": "python",
   "name": "python3"
  },
  "language_info": {
   "codemirror_mode": {
    "name": "ipython",
    "version": 3
   },
   "file_extension": ".py",
   "mimetype": "text/x-python",
   "name": "python",
   "nbconvert_exporter": "python",
   "pygments_lexer": "ipython3",
   "version": "3.6.3"
  }
 },
 "nbformat": 4,
 "nbformat_minor": 2
}
